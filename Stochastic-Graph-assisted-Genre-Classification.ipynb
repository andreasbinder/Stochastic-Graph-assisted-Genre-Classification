{
 "cells": [
  {
   "cell_type": "code",
   "execution_count": 1,
   "metadata": {},
   "outputs": [
    {
     "data": {
      "text/plain": "<torch._C.Generator at 0x7fe7fb3a86b0>"
     },
     "execution_count": 1,
     "metadata": {},
     "output_type": "execute_result"
    }
   ],
   "source": [
    "import sys\n",
    "\n",
    "import random \n",
    "\n",
    "from src.tdde13.data_handling import * #\n",
    "from src.tdde13.evaluation import * \n",
    "from sklearn.feature_extraction.text import CountVectorizer # we could have use TfidfVectorizer too. From sklearn doc : \"tf-idf vectors are also known to work well in practice\"\n",
    "from sklearn.preprocessing import LabelEncoder\n",
    "\n",
    "seed = 42\n",
    "random.seed(seed)\n",
    "np.random.seed(seed)\n",
    "torch.manual_seed(seed)"
   ]
  },
  {
   "cell_type": "markdown",
   "metadata": {},
   "source": [
    "# Stochastic Graph assisted Genre Classification\n",
    "\n",
    "In this notebook we show how to reproduce the main results of our report. Specifically, we compare the GloVe embedding and the count vectorizer, and a MLP and a GNN for the models. "
   ]
  },
  {
   "cell_type": "markdown",
   "metadata": {},
   "source": [
    "## Baseline: Multilayer Perceptron\n",
    "\n",
    "Change the ```use_glove``` parameter to switch between the embeddings."
   ]
  },
  {
   "cell_type": "code",
   "execution_count": 5,
   "metadata": {},
   "outputs": [
    {
     "name": "stdout",
     "output_type": "stream",
     "text": [
      "10000\n",
      "9892\n"
     ]
    }
   ],
   "source": [
    "from src.tdde13.baselines import MLP\n",
    "\n",
    "X_train, X_val, X_test, y_train, y_val, y_test = get_data()\n",
    "\n",
    "use_glove = False\n",
    "if use_glove:\n",
    "    # print(X_train)\n",
    "\n",
    "    X_train_transformed = glove_embedding(X_train)\n",
    "    X_val_transformed = glove_embedding(X_val)\n",
    "    X_test_transformed = glove_embedding(X_test)\n",
    "\n",
    "    # assert False, \"embedding\"\n",
    "else:\n",
    "    vectorizer = CountVectorizer()\n",
    "    X_train_transformed = vectorizer.fit_transform(X_train)\n",
    "    X_val_transformed = vectorizer.transform(X_val)\n",
    "    X_test_transformed = vectorizer.transform(X_test)\n",
    "\n",
    "    X_train_transformed = construct_sparse_tensor(X_train_transformed.tocoo())\n",
    "    X_val_transformed = construct_sparse_tensor(X_val_transformed.tocoo())\n",
    "    X_test_transformed = construct_sparse_tensor(X_test_transformed.tocoo())"
   ]
  },
  {
   "cell_type": "code",
   "execution_count": 6,
   "metadata": {},
   "outputs": [],
   "source": [
    "input_size = X_train_transformed.shape[1]\n",
    "output_size = 10\n",
    "\n",
    "y_train = LabelEncoder().fit_transform(y_train)\n",
    "y_val = LabelEncoder().fit_transform(y_val)\n",
    "y_test = LabelEncoder().fit_transform(y_test)\n",
    "\n",
    "y_train = torch.tensor(y_train)\n",
    "y_val = torch.tensor(y_val)\n",
    "y_test = torch.tensor(y_test)\n",
    "\n",
    "hparams = {\n",
    "    \"lr\" : 0.0002,\n",
    "    \"epochs\" : 35, # 15,\n",
    "    \"batch_size\" : 128,\n",
    "    \"patience\" : 5\n",
    "}"
   ]
  },
  {
   "cell_type": "code",
   "execution_count": 7,
   "metadata": {},
   "outputs": [
    {
     "name": "stdout",
     "output_type": "stream",
     "text": [
      "Epoch: 0\n"
     ]
    },
    {
     "name": "stderr",
     "output_type": "stream",
     "text": [
      "100%|██████████| 62/62 [00:24<00:00,  2.56it/s]\n",
      "100%|██████████| 8/8 [00:00<00:00, 28.92it/s]\n"
     ]
    },
    {
     "name": "stdout",
     "output_type": "stream",
     "text": [
      "Train Loss: 116.1531 Train Acc 0.406 Val Loss 20.3741 Val Acc 0.351\n",
      "Epoch: 1\n"
     ]
    },
    {
     "name": "stderr",
     "output_type": "stream",
     "text": [
      "100%|██████████| 62/62 [00:14<00:00,  4.40it/s]\n",
      "100%|██████████| 8/8 [00:00<00:00, 40.85it/s]\n"
     ]
    },
    {
     "name": "stdout",
     "output_type": "stream",
     "text": [
      "Train Loss: 81.8824 Train Acc 0.612 Val Loss 22.9468 Val Acc 0.353\n",
      "Epoch: 2\n"
     ]
    },
    {
     "name": "stderr",
     "output_type": "stream",
     "text": [
      "100%|██████████| 62/62 [00:14<00:00,  4.41it/s]\n",
      "100%|██████████| 8/8 [00:00<00:00, 42.48it/s]\n"
     ]
    },
    {
     "name": "stdout",
     "output_type": "stream",
     "text": [
      "Train Loss: 55.1299 Train Acc 0.762 Val Loss 25.1487 Val Acc 0.361\n",
      "Epoch: 3\n"
     ]
    },
    {
     "name": "stderr",
     "output_type": "stream",
     "text": [
      "100%|██████████| 62/62 [00:13<00:00,  4.67it/s]\n",
      "100%|██████████| 8/8 [00:00<00:00, 39.80it/s]\n"
     ]
    },
    {
     "name": "stdout",
     "output_type": "stream",
     "text": [
      "Train Loss: 33.6820 Train Acc 0.866 Val Loss 27.5303 Val Acc 0.387\n",
      "Epoch: 4\n"
     ]
    },
    {
     "name": "stderr",
     "output_type": "stream",
     "text": [
      "100%|██████████| 62/62 [00:13<00:00,  4.69it/s]\n",
      "100%|██████████| 8/8 [00:00<00:00, 42.35it/s]\n"
     ]
    },
    {
     "name": "stdout",
     "output_type": "stream",
     "text": [
      "Train Loss: 19.3000 Train Acc 0.940 Val Loss 29.6454 Val Acc 0.400\n",
      "Epoch: 5\n"
     ]
    },
    {
     "name": "stderr",
     "output_type": "stream",
     "text": [
      "100%|██████████| 62/62 [00:12<00:00,  4.94it/s]\n",
      "100%|██████████| 8/8 [00:00<00:00, 42.13it/s]\n"
     ]
    },
    {
     "name": "stdout",
     "output_type": "stream",
     "text": [
      "Train Loss: 11.1840 Train Acc 0.976 Val Loss 31.1952 Val Acc 0.403\n",
      "Epoch: 6\n"
     ]
    },
    {
     "name": "stderr",
     "output_type": "stream",
     "text": [
      "100%|██████████| 62/62 [00:12<00:00,  4.95it/s]\n",
      "100%|██████████| 8/8 [00:00<00:00, 31.50it/s]\n"
     ]
    },
    {
     "name": "stdout",
     "output_type": "stream",
     "text": [
      "Train Loss: 6.8702 Train Acc 0.987 Val Loss 32.3813 Val Acc 0.395\n",
      "Epoch: 7\n"
     ]
    },
    {
     "name": "stderr",
     "output_type": "stream",
     "text": [
      "100%|██████████| 62/62 [00:12<00:00,  4.90it/s]\n",
      "100%|██████████| 8/8 [00:00<00:00, 32.32it/s]\n"
     ]
    },
    {
     "name": "stdout",
     "output_type": "stream",
     "text": [
      "Train Loss: 4.4296 Train Acc 0.992 Val Loss 32.3310 Val Acc 0.404\n",
      "Epoch: 8\n"
     ]
    },
    {
     "name": "stderr",
     "output_type": "stream",
     "text": [
      "100%|██████████| 62/62 [00:13<00:00,  4.60it/s]\n",
      "100%|██████████| 8/8 [00:00<00:00, 35.45it/s]\n"
     ]
    },
    {
     "name": "stdout",
     "output_type": "stream",
     "text": [
      "Train Loss: 2.9651 Train Acc 0.996 Val Loss 32.2833 Val Acc 0.402\n",
      "Epoch: 9\n"
     ]
    },
    {
     "name": "stderr",
     "output_type": "stream",
     "text": [
      "100%|██████████| 62/62 [00:13<00:00,  4.71it/s]\n",
      "100%|██████████| 8/8 [00:00<00:00, 39.52it/s]\n"
     ]
    },
    {
     "name": "stdout",
     "output_type": "stream",
     "text": [
      "Train Loss: 2.0485 Train Acc 0.998 Val Loss 32.2780 Val Acc 0.405\n",
      "Epoch: 10\n"
     ]
    },
    {
     "name": "stderr",
     "output_type": "stream",
     "text": [
      "100%|██████████| 62/62 [00:12<00:00,  4.82it/s]\n",
      "100%|██████████| 8/8 [00:00<00:00, 39.75it/s]\n"
     ]
    },
    {
     "name": "stdout",
     "output_type": "stream",
     "text": [
      "Train Loss: 1.4551 Train Acc 0.999 Val Loss 32.2461 Val Acc 0.416\n",
      "Epoch: 11\n"
     ]
    },
    {
     "name": "stderr",
     "output_type": "stream",
     "text": [
      "100%|██████████| 62/62 [00:12<00:00,  4.96it/s]\n",
      "100%|██████████| 8/8 [00:00<00:00, 26.83it/s]\n"
     ]
    },
    {
     "name": "stdout",
     "output_type": "stream",
     "text": [
      "Train Loss: 1.0758 Train Acc 0.999 Val Loss 32.8337 Val Acc 0.416\n",
      "Epoch: 12\n"
     ]
    },
    {
     "name": "stderr",
     "output_type": "stream",
     "text": [
      "100%|██████████| 62/62 [00:12<00:00,  5.02it/s]\n",
      "100%|██████████| 8/8 [00:00<00:00, 42.54it/s]\n"
     ]
    },
    {
     "name": "stdout",
     "output_type": "stream",
     "text": [
      "Train Loss: 0.8242 Train Acc 1.000 Val Loss 33.6184 Val Acc 0.417\n",
      "Epoch: 13\n"
     ]
    },
    {
     "name": "stderr",
     "output_type": "stream",
     "text": [
      "100%|██████████| 62/62 [00:12<00:00,  4.95it/s]\n",
      "100%|██████████| 8/8 [00:00<00:00, 40.46it/s]\n"
     ]
    },
    {
     "name": "stdout",
     "output_type": "stream",
     "text": [
      "Train Loss: 0.6481 Train Acc 1.000 Val Loss 34.3326 Val Acc 0.417\n",
      "Epoch: 14\n"
     ]
    },
    {
     "name": "stderr",
     "output_type": "stream",
     "text": [
      "100%|██████████| 62/62 [00:12<00:00,  4.78it/s]\n",
      "100%|██████████| 8/8 [00:00<00:00, 41.38it/s]\n"
     ]
    },
    {
     "name": "stdout",
     "output_type": "stream",
     "text": [
      "Train Loss: 0.5208 Train Acc 1.000 Val Loss 35.0258 Val Acc 0.415\n",
      "Epoch: 15\n"
     ]
    },
    {
     "name": "stderr",
     "output_type": "stream",
     "text": [
      "100%|██████████| 62/62 [00:12<00:00,  4.85it/s]\n",
      "100%|██████████| 8/8 [00:00<00:00, 34.15it/s]\n"
     ]
    },
    {
     "name": "stdout",
     "output_type": "stream",
     "text": [
      "Train Loss: 0.4257 Train Acc 1.000 Val Loss 35.7162 Val Acc 0.414\n",
      "Epoch: 16\n"
     ]
    },
    {
     "name": "stderr",
     "output_type": "stream",
     "text": [
      "100%|██████████| 62/62 [00:14<00:00,  4.29it/s]\n",
      "100%|██████████| 8/8 [00:00<00:00, 16.00it/s]\n"
     ]
    },
    {
     "name": "stdout",
     "output_type": "stream",
     "text": [
      "Train Loss: 0.3532 Train Acc 1.000 Val Loss 36.4019 Val Acc 0.413\n",
      "Epoch: 17\n"
     ]
    },
    {
     "name": "stderr",
     "output_type": "stream",
     "text": [
      "100%|██████████| 62/62 [00:16<00:00,  3.79it/s]\n",
      "100%|██████████| 8/8 [00:00<00:00, 30.12it/s]\n"
     ]
    },
    {
     "name": "stdout",
     "output_type": "stream",
     "text": [
      "Train Loss: 0.2968 Train Acc 1.000 Val Loss 37.0843 Val Acc 0.412\n",
      "Test Acc 0.739\n",
      "Finished Training\n"
     ]
    },
    {
     "data": {
      "image/png": "[encoded data removed]",
      "text/plain": "<Figure size 432x288 with 1 Axes>"
     },
     "metadata": {
      "needs_background": "light"
     },
     "output_type": "display_data"
    }
   ],
   "source": [
    "mlp = MLP(input_size, output_size)\n",
    "\n",
    "trace_train, trace_val = mlp.train_mlp(X_train_transformed, X_val_transformed, X_test_transformed, y_train, y_val, y_test, hparams)\n",
    "\n",
    "plot_curves(trace_train, trace_val)"
   ]
  },
  {
   "cell_type": "markdown",
   "metadata": {},
   "source": [
    "## GraphSage"
   ]
  },
  {
   "cell_type": "code",
   "execution_count": 8,
   "metadata": {},
   "outputs": [
    {
     "name": "stdout",
     "output_type": "stream",
     "text": [
      "10000\n",
      "9892\n"
     ]
    }
   ],
   "source": [
    "from src.tdde13.graphsage import GraphSAGE\n",
    "\n",
    "X, y, edge_index, idx_train, idx_val, idx_test = get_data_graphsage()\n",
    "\n",
    "use_glove = False\n",
    "if use_glove:\n",
    "    X_transformed = glove_embedding(X)\n",
    "else:\n",
    "    vectorizer = CountVectorizer()\n",
    "    X_transformed = vectorizer.fit_transform(X)\n",
    "    X_transformed = construct_sparse_tensor(X_transformed.tocoo())"
   ]
  },
  {
   "cell_type": "code",
   "execution_count": null,
   "metadata": {},
   "outputs": [
    {
     "ename": "Error",
     "evalue": "Session cannot generate requests",
     "output_type": "error",
     "traceback": [
      "Error: Session cannot generate requests",
      "at w.executeCodeCell (/home/andreas/.vscode/extensions/ms-toolsai.jupyter-2021.5.745244803/out/client/extension.js:49:635493)",
      "at w.execute (/home/andreas/.vscode/extensions/ms-toolsai.jupyter-2021.5.745244803/out/client/extension.js:49:634882)",
      "at w.start (/home/andreas/.vscode/extensions/ms-toolsai.jupyter-2021.5.745244803/out/client/extension.js:49:629791)",
      "at runMicrotasks (<anonymous>)",
      "at processTicksAndRejections (internal/process/task_queues.js:97:5)",
      "at async t.CellExecutionQueue.executeQueuedCells (/home/andreas/.vscode/extensions/ms-toolsai.jupyter-2021.5.745244803/out/client/extension.js:49:644977)",
      "at async t.CellExecutionQueue.start (/home/andreas/.vscode/extensions/ms-toolsai.jupyter-2021.5.745244803/out/client/extension.js:49:644517)"
     ]
    }
   ],
   "source": [
    "y = LabelEncoder().fit_transform(y)\n",
    "y = torch.tensor(y)   \n",
    "\n",
    "in_dim = X_transformed.shape[1] \n",
    "hidden_dim = 128\n",
    "out_dim = 10\n",
    "\n",
    "hparams = {\n",
    "    \"lr\" : 0.001,\n",
    "    \"epochs\" : 35, # 15,\n",
    "    \"batch_size\" : 128,\n",
    "    \"patience\" : 5,\n",
    "    \"use_glove\" : use_glove\n",
    "}"
   ]
  },
  {
   "cell_type": "code",
   "execution_count": null,
   "metadata": {},
   "outputs": [],
   "source": [
    "graphsage = GraphSAGE(in_dim=in_dim, hidden_dim=hidden_dim, out_dim=out_dim)\n",
    "\n",
    "# graphsage.train_graphsage(X_transformed, edge_index, y, idx_train, idx_val, idx_test)\n",
    "trace_train, trace_val = graphsage.train_graphsage_batchwise(X_transformed, edge_index, y, idx_train, idx_val, idx_test, hparams)\n",
    "\n",
    "plot_curves(trace_train, trace_val)"
   ]
  }
 ],
 "metadata": {
  "kernelspec": {
   "display_name": "Python 3.8.12 64-bit ('tdde13': conda)",
   "name": "python3812jvsc74a57bd0b5d3780335a600d2b64d22f19b7dc7c5025d01ebed9cb50cd08aeee3fa28229c"
  },
  "language_info": {
   "codemirror_mode": {
    "name": "ipython",
    "version": 3
   },
   "file_extension": ".py",
   "mimetype": "text/x-python",
   "name": "python",
   "nbconvert_exporter": "python",
   "pygments_lexer": "ipython3",
   "version": "3.8.12"
  },
  "orig_nbformat": 2
 },
 "nbformat": 4,
 "nbformat_minor": 2
}