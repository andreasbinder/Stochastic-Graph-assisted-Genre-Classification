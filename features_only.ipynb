{
 "cells": [
  {
   "cell_type": "code",
   "execution_count": 1,
   "metadata": {},
   "outputs": [
    {
     "data": {
      "text/plain": "<torch._C.Generator at 0x7ff37804e6b0>"
     },
     "execution_count": 1,
     "metadata": {},
     "output_type": "execute_result"
    }
   ],
   "source": [
    "import sys\n",
    "\n",
    "import random \n",
    "\n",
    "from src.tdde13.data_handling import * #\n",
    "from src.tdde13.evaluation import * \n",
    "from sklearn.feature_extraction.text import CountVectorizer # we could have use TfidfVectorizer too. From sklearn doc : \"tf-idf vectors are also known to work well in practice\"\n",
    "from sklearn.preprocessing import LabelEncoder\n",
    "\n",
    "seed = 42\n",
    "random.seed(seed)\n",
    "np.random.seed(seed)\n",
    "torch.manual_seed(seed)"
   ]
  },
  {
   "cell_type": "code",
   "execution_count": 2,
   "metadata": {},
   "outputs": [
    {
     "name": "stdout",
     "output_type": "stream",
     "text": [
      "10000\n",
      "9892\n"
     ]
    }
   ],
   "source": [
    "X, y, edge_index, idx_train, idx_val, idx_test = get_data_graphsage()"
   ]
  },
  {
   "cell_type": "code",
   "execution_count": 3,
   "metadata": {},
   "outputs": [],
   "source": [
    "n_nodes = X.shape[0]\n",
    "edge_index = torch.tensor([[i,i] for i in range(n_nodes)])\n"
   ]
  },
  {
   "cell_type": "code",
   "execution_count": 4,
   "metadata": {},
   "outputs": [
    {
     "data": {
      "text/plain": "torch.Size([9892, 2])"
     },
     "execution_count": 4,
     "metadata": {},
     "output_type": "execute_result"
    }
   ],
   "source": [
    "edge_index.shape"
   ]
  },
  {
   "cell_type": "code",
   "execution_count": 6,
   "metadata": {},
   "outputs": [],
   "source": [
    "use_glove = True\n",
    "if use_glove:\n",
    "    X_transformed = glove_embedding(X)\n",
    "else:\n",
    "    vectorizer = CountVectorizer()\n",
    "    X_transformed = vectorizer.fit_transform(X)\n",
    "    X_transformed = construct_sparse_tensor(X_transformed.tocoo())"
   ]
  },
  {
   "cell_type": "code",
   "execution_count": 9,
   "metadata": {},
   "outputs": [
    {
     "name": "stdout",
     "output_type": "stream",
     "text": [
      "Create Data Object\n",
      "Epoch: 1\n"
     ]
    },
    {
     "name": "stderr",
     "output_type": "stream",
     "text": [
      "100%|██████████| 62/62 [00:51<00:00,  1.20it/s]\n",
      "100%|██████████| 8/8 [00:00<00:00, 14.64it/s]\n"
     ]
    },
    {
     "name": "stdout",
     "output_type": "stream",
     "text": [
      "train loss: 281.5767 train acc: 0.1245 val loss: 19.5093 val acc: 0.1010\n",
      "Epoch: 2\n"
     ]
    },
    {
     "name": "stderr",
     "output_type": "stream",
     "text": [
      " 11%|█▏        | 7/62 [00:05<00:42,  1.28it/s]"
     ]
    }
   ],
   "source": [
    "from src.tdde13.graphsage import GraphSAGE\n",
    "\n",
    "y = LabelEncoder().fit_transform(y)\n",
    "y = torch.tensor(y)   \n",
    "\n",
    "# use_glove = False\n",
    "\n",
    "in_dim = X_transformed.shape[1] \n",
    "hidden_dim = 128\n",
    "out_dim = 10\n",
    "\n",
    "'''\n",
    "    cv\n",
    "    \"lr\" : 0.001,\n",
    "    \"epochs\" : 35, # 15,\n",
    "    \"batch_size\" : 128,\n",
    "    \"patience\" : 5, # 5\n",
    "'''\n",
    "\n",
    "hparams = {\n",
    "    \"lr\" : 0.001,\n",
    "    \"epochs\" : 35, # 15,\n",
    "    \"batch_size\" : 128,\n",
    "    \"patience\" : 5, # 5\n",
    "    \"use_glove\" : use_glove\n",
    "}\n",
    "\n",
    "graphsage = GraphSAGE(in_dim=in_dim, hidden_dim=hidden_dim, out_dim=out_dim)\n",
    "\n",
    "# graphsage.train_graphsage(X_transformed, edge_index, y, idx_train, idx_val, idx_test)\n",
    "trace_train, trace_val = graphsage.train_graphsage_batchwise(X_transformed, edge_index, y, idx_train, idx_val, idx_test, hparams)\n",
    "\n",
    "plot_curves(trace_train, trace_val)"
   ]
  }
 ],
 "metadata": {
  "kernelspec": {
   "display_name": "Python 3.8.12 64-bit",
   "name": "python3812jvsc74a57bd0b5d3780335a600d2b64d22f19b7dc7c5025d01ebed9cb50cd08aeee3fa28229c"
  },
  "language_info": {
   "codemirror_mode": {
    "name": "ipython",
    "version": 3
   },
   "file_extension": ".py",
   "mimetype": "text/x-python",
   "name": "python",
   "nbconvert_exporter": "python",
   "pygments_lexer": "ipython3",
   "version": "3.8.12"
  },
  "orig_nbformat": 2
 },
 "nbformat": 4,
 "nbformat_minor": 2
}