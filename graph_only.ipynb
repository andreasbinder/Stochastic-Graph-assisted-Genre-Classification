{
 "cells": [
  {
   "cell_type": "code",
   "execution_count": 1,
   "metadata": {},
   "outputs": [
    {
     "data": {
      "text/plain": "<torch._C.Generator at 0x7f3577bf76b0>"
     },
     "execution_count": 1,
     "metadata": {},
     "output_type": "execute_result"
    }
   ],
   "source": [
    "import sys\n",
    "\n",
    "import random \n",
    "\n",
    "from src.tdde13.data_handling import * #\n",
    "from src.tdde13.evaluation import * \n",
    "from sklearn.feature_extraction.text import CountVectorizer # we could have use TfidfVectorizer too. From sklearn doc : \"tf-idf vectors are also known to work well in practice\"\n",
    "from sklearn.preprocessing import LabelEncoder\n",
    "\n",
    "seed = 42\n",
    "random.seed(seed)\n",
    "np.random.seed(seed)\n",
    "torch.manual_seed(seed)"
   ]
  },
  {
   "cell_type": "code",
   "execution_count": 2,
   "metadata": {},
   "outputs": [
    {
     "name": "stdout",
     "output_type": "stream",
     "text": [
      "10000\n",
      "9892\n"
     ]
    }
   ],
   "source": [
    "X, y, edge_index, idx_train, idx_val, idx_test = get_data_graphsage()"
   ]
  },
  {
   "cell_type": "code",
   "execution_count": 3,
   "metadata": {},
   "outputs": [],
   "source": [
    "dummy_dim = 100\n",
    "X_transformed = torch.ones((X.shape[0], dummy_dim))"
   ]
  },
  {
   "cell_type": "code",
   "execution_count": 5,
   "metadata": {},
   "outputs": [
    {
     "name": "stdout",
     "output_type": "stream",
     "text": [
      "Create Data Object\n",
      "Epoch: 1\n"
     ]
    },
    {
     "name": "stderr",
     "output_type": "stream",
     "text": [
      "100%|██████████| 62/62 [00:01<00:00, 42.73it/s]\n",
      "100%|██████████| 8/8 [00:00<00:00, 93.44it/s]\n"
     ]
    },
    {
     "name": "stdout",
     "output_type": "stream",
     "text": [
      "train loss: 115.4840 train acc: 0.2548 val loss: 14.6912 val acc: 0.2576\n",
      "Epoch: 2\n"
     ]
    },
    {
     "name": "stderr",
     "output_type": "stream",
     "text": [
      "100%|██████████| 62/62 [00:01<00:00, 46.12it/s]\n",
      "100%|██████████| 8/8 [00:00<00:00, 101.67it/s]\n"
     ]
    },
    {
     "name": "stdout",
     "output_type": "stream",
     "text": [
      "train loss: 113.1974 train acc: 0.2617 val loss: 14.6066 val acc: 0.2689\n",
      "Epoch: 3\n"
     ]
    },
    {
     "name": "stderr",
     "output_type": "stream",
     "text": [
      "100%|██████████| 62/62 [00:01<00:00, 60.32it/s]\n",
      "100%|██████████| 8/8 [00:00<00:00, 61.22it/s]\n"
     ]
    },
    {
     "name": "stdout",
     "output_type": "stream",
     "text": [
      "train loss: 112.8550 train acc: 0.2645 val loss: 14.5084 val acc: 0.2719\n",
      "Epoch: 4\n"
     ]
    },
    {
     "name": "stderr",
     "output_type": "stream",
     "text": [
      "100%|██████████| 62/62 [00:00<00:00, 77.50it/s]\n",
      "100%|██████████| 8/8 [00:00<00:00, 143.63it/s]\n"
     ]
    },
    {
     "name": "stdout",
     "output_type": "stream",
     "text": [
      "train loss: 112.6222 train acc: 0.2681 val loss: 14.4654 val acc: 0.2759\n",
      "Epoch: 5\n"
     ]
    },
    {
     "name": "stderr",
     "output_type": "stream",
     "text": [
      "100%|██████████| 62/62 [00:00<00:00, 97.41it/s] \n",
      "100%|██████████| 8/8 [00:00<00:00, 136.75it/s]\n"
     ]
    },
    {
     "name": "stdout",
     "output_type": "stream",
     "text": [
      "train loss: 112.2973 train acc: 0.2706 val loss: 14.4438 val acc: 0.2759\n",
      "Epoch: 6\n"
     ]
    },
    {
     "name": "stderr",
     "output_type": "stream",
     "text": [
      "100%|██████████| 62/62 [00:00<00:00, 88.01it/s]\n",
      "100%|██████████| 8/8 [00:00<00:00, 124.64it/s]\n"
     ]
    },
    {
     "name": "stdout",
     "output_type": "stream",
     "text": [
      "train loss: 112.2557 train acc: 0.2651 val loss: 14.5371 val acc: 0.2666\n",
      "Epoch: 7\n"
     ]
    },
    {
     "name": "stderr",
     "output_type": "stream",
     "text": [
      "100%|██████████| 62/62 [00:01<00:00, 54.68it/s]\n",
      "100%|██████████| 8/8 [00:00<00:00, 101.39it/s]\n"
     ]
    },
    {
     "name": "stdout",
     "output_type": "stream",
     "text": [
      "train loss: 112.3241 train acc: 0.2679 val loss: 14.5147 val acc: 0.2600\n",
      "Epoch: 8\n"
     ]
    },
    {
     "name": "stderr",
     "output_type": "stream",
     "text": [
      "100%|██████████| 62/62 [00:01<00:00, 50.97it/s]\n",
      "100%|██████████| 8/8 [00:00<00:00, 127.53it/s]\n"
     ]
    },
    {
     "name": "stdout",
     "output_type": "stream",
     "text": [
      "train loss: 112.0338 train acc: 0.2682 val loss: 14.5532 val acc: 0.2732\n",
      "Epoch: 9\n"
     ]
    },
    {
     "name": "stderr",
     "output_type": "stream",
     "text": [
      "100%|██████████| 62/62 [00:01<00:00, 58.18it/s]\n",
      "100%|██████████| 8/8 [00:00<00:00, 99.98it/s]\n"
     ]
    },
    {
     "name": "stdout",
     "output_type": "stream",
     "text": [
      "train loss: 112.0669 train acc: 0.2667 val loss: 14.4796 val acc: 0.2694\n",
      "Epoch: 10\n"
     ]
    },
    {
     "name": "stderr",
     "output_type": "stream",
     "text": [
      "100%|██████████| 62/62 [00:01<00:00, 57.97it/s]\n",
      "100%|██████████| 8/8 [00:00<00:00, 102.49it/s]\n"
     ]
    },
    {
     "name": "stdout",
     "output_type": "stream",
     "text": [
      "train loss: 111.8269 train acc: 0.2703 val loss: 14.4705 val acc: 0.2791\n",
      "Epoch: 11\n"
     ]
    },
    {
     "name": "stderr",
     "output_type": "stream",
     "text": [
      "100%|██████████| 62/62 [00:00<00:00, 85.59it/s]\n",
      "100%|██████████| 8/8 [00:00<00:00, 142.79it/s]\n"
     ]
    },
    {
     "name": "stdout",
     "output_type": "stream",
     "text": [
      "train loss: 112.1203 train acc: 0.2674 val loss: 14.3814 val acc: 0.2774\n",
      "Epoch: 12\n"
     ]
    },
    {
     "name": "stderr",
     "output_type": "stream",
     "text": [
      "100%|██████████| 62/62 [00:00<00:00, 97.68it/s] \n",
      "100%|██████████| 8/8 [00:00<00:00, 164.81it/s]\n"
     ]
    },
    {
     "name": "stdout",
     "output_type": "stream",
     "text": [
      "train loss: 111.7318 train acc: 0.2748 val loss: 14.4749 val acc: 0.2697\n",
      "Epoch: 13\n"
     ]
    },
    {
     "name": "stderr",
     "output_type": "stream",
     "text": [
      "100%|██████████| 62/62 [00:00<00:00, 89.82it/s]\n",
      "100%|██████████| 8/8 [00:00<00:00, 150.53it/s]\n"
     ]
    },
    {
     "name": "stdout",
     "output_type": "stream",
     "text": [
      "train loss: 111.9361 train acc: 0.2735 val loss: 14.4464 val acc: 0.2782\n",
      "Epoch: 14\n"
     ]
    },
    {
     "name": "stderr",
     "output_type": "stream",
     "text": [
      "100%|██████████| 62/62 [00:00<00:00, 96.85it/s] \n",
      "100%|██████████| 8/8 [00:00<00:00, 129.86it/s]\n"
     ]
    },
    {
     "name": "stdout",
     "output_type": "stream",
     "text": [
      "train loss: 111.8165 train acc: 0.2725 val loss: 14.4793 val acc: 0.2750\n",
      "Epoch: 15\n"
     ]
    },
    {
     "name": "stderr",
     "output_type": "stream",
     "text": [
      "100%|██████████| 62/62 [00:00<00:00, 81.44it/s]\n",
      "100%|██████████| 8/8 [00:00<00:00, 112.76it/s]\n"
     ]
    },
    {
     "name": "stdout",
     "output_type": "stream",
     "text": [
      "train loss: 111.9897 train acc: 0.2712 val loss: 14.5381 val acc: 0.2679\n",
      "Epoch: 16\n"
     ]
    },
    {
     "name": "stderr",
     "output_type": "stream",
     "text": [
      "100%|██████████| 62/62 [00:01<00:00, 56.46it/s]\n",
      "100%|██████████| 8/8 [00:00<00:00, 95.60it/s]\n"
     ]
    },
    {
     "name": "stdout",
     "output_type": "stream",
     "text": [
      "train loss: 111.8117 train acc: 0.2764 val loss: 14.4439 val acc: 0.2803\n",
      "Epoch: 17\n"
     ]
    },
    {
     "name": "stderr",
     "output_type": "stream",
     "text": [
      "100%|██████████| 62/62 [00:01<00:00, 32.07it/s]\n",
      "100%|██████████| 8/8 [00:00<00:00, 25.10it/s]\n"
     ]
    },
    {
     "name": "stdout",
     "output_type": "stream",
     "text": [
      "train loss: 111.9173 train acc: 0.2725 val loss: 14.3856 val acc: 0.2789\n",
      "Epoch: 18\n"
     ]
    },
    {
     "name": "stderr",
     "output_type": "stream",
     "text": [
      "100%|██████████| 62/62 [00:01<00:00, 39.65it/s]\n",
      "100%|██████████| 8/8 [00:00<00:00, 94.88it/s]\n"
     ]
    },
    {
     "name": "stdout",
     "output_type": "stream",
     "text": [
      "train loss: 111.9931 train acc: 0.2741 val loss: 14.4285 val acc: 0.2769\n",
      "Epoch: 19\n"
     ]
    },
    {
     "name": "stderr",
     "output_type": "stream",
     "text": [
      "100%|██████████| 62/62 [00:01<00:00, 31.52it/s]\n",
      "100%|██████████| 8/8 [00:00<00:00, 61.88it/s]\n"
     ]
    },
    {
     "name": "stdout",
     "output_type": "stream",
     "text": [
      "train loss: 111.9013 train acc: 0.2705 val loss: 14.4480 val acc: 0.2827\n",
      "Epoch: 20\n"
     ]
    },
    {
     "name": "stderr",
     "output_type": "stream",
     "text": [
      "100%|██████████| 62/62 [00:00<00:00, 69.62it/s]\n",
      "100%|██████████| 8/8 [00:00<00:00, 103.36it/s]\n"
     ]
    },
    {
     "name": "stdout",
     "output_type": "stream",
     "text": [
      "train loss: 111.7721 train acc: 0.2749 val loss: 14.4953 val acc: 0.2718\n",
      "Epoch: 21\n"
     ]
    },
    {
     "name": "stderr",
     "output_type": "stream",
     "text": [
      "100%|██████████| 62/62 [00:00<00:00, 108.68it/s]\n",
      "100%|██████████| 8/8 [00:00<00:00, 140.55it/s]\n"
     ]
    },
    {
     "name": "stdout",
     "output_type": "stream",
     "text": [
      "train loss: 111.7176 train acc: 0.2728 val loss: 14.4844 val acc: 0.2765\n",
      "Epoch: 22\n"
     ]
    },
    {
     "name": "stderr",
     "output_type": "stream",
     "text": [
      "100%|██████████| 62/62 [00:00<00:00, 83.29it/s]\n",
      "100%|██████████| 8/8 [00:00<00:00, 70.25it/s]\n"
     ]
    },
    {
     "name": "stdout",
     "output_type": "stream",
     "text": [
      "train loss: 111.7572 train acc: 0.2761 val loss: 14.5136 val acc: 0.2781\n",
      "Epoch: 23\n"
     ]
    },
    {
     "name": "stderr",
     "output_type": "stream",
     "text": [
      "100%|██████████| 62/62 [00:00<00:00, 86.38it/s]\n",
      "100%|██████████| 8/8 [00:00<00:00, 104.40it/s]\n"
     ]
    },
    {
     "name": "stdout",
     "output_type": "stream",
     "text": [
      "train loss: 111.6599 train acc: 0.2714 val loss: 14.4444 val acc: 0.2806\n",
      "Epoch: 24\n"
     ]
    },
    {
     "name": "stderr",
     "output_type": "stream",
     "text": [
      "100%|██████████| 62/62 [00:01<00:00, 48.46it/s]\n",
      "100%|██████████| 8/8 [00:00<00:00, 91.66it/s]\n"
     ]
    },
    {
     "name": "stdout",
     "output_type": "stream",
     "text": [
      "train loss: 111.5846 train acc: 0.2748 val loss: 14.4424 val acc: 0.2781\n",
      "Epoch: 25\n"
     ]
    },
    {
     "name": "stderr",
     "output_type": "stream",
     "text": [
      "100%|██████████| 62/62 [00:01<00:00, 57.17it/s]\n",
      "100%|██████████| 8/8 [00:00<00:00, 59.34it/s]\n"
     ]
    },
    {
     "name": "stdout",
     "output_type": "stream",
     "text": [
      "train loss: 111.8472 train acc: 0.2755 val loss: 14.5052 val acc: 0.2782\n",
      "Epoch: 26\n"
     ]
    },
    {
     "name": "stderr",
     "output_type": "stream",
     "text": [
      "100%|██████████| 62/62 [00:01<00:00, 58.66it/s]\n",
      "100%|██████████| 8/8 [00:00<00:00, 108.37it/s]\n"
     ]
    },
    {
     "name": "stdout",
     "output_type": "stream",
     "text": [
      "train loss: 111.6761 train acc: 0.2750 val loss: 14.5048 val acc: 0.2726\n",
      "Epoch: 27\n"
     ]
    },
    {
     "name": "stderr",
     "output_type": "stream",
     "text": [
      "100%|██████████| 62/62 [00:01<00:00, 42.89it/s]\n",
      "100%|██████████| 8/8 [00:00<00:00, 65.42it/s]\n"
     ]
    },
    {
     "name": "stdout",
     "output_type": "stream",
     "text": [
      "train loss: 111.9320 train acc: 0.2739 val loss: 14.4005 val acc: 0.2837\n",
      "Epoch: 28\n"
     ]
    },
    {
     "name": "stderr",
     "output_type": "stream",
     "text": [
      "100%|██████████| 62/62 [00:00<00:00, 64.01it/s]\n",
      "100%|██████████| 8/8 [00:00<00:00, 191.14it/s]\n"
     ]
    },
    {
     "name": "stdout",
     "output_type": "stream",
     "text": [
      "train loss: 111.8268 train acc: 0.2753 val loss: 14.5449 val acc: 0.2782\n",
      "Epoch: 29\n"
     ]
    },
    {
     "name": "stderr",
     "output_type": "stream",
     "text": [
      "100%|██████████| 62/62 [00:00<00:00, 81.78it/s]\n",
      "100%|██████████| 8/8 [00:00<00:00, 114.49it/s]\n"
     ]
    },
    {
     "name": "stdout",
     "output_type": "stream",
     "text": [
      "train loss: 111.4389 train acc: 0.2737 val loss: 14.4669 val acc: 0.2842\n",
      "Epoch: 30\n"
     ]
    },
    {
     "name": "stderr",
     "output_type": "stream",
     "text": [
      "100%|██████████| 62/62 [00:00<00:00, 66.86it/s]\n",
      "100%|██████████| 8/8 [00:00<00:00, 176.43it/s]\n"
     ]
    },
    {
     "name": "stdout",
     "output_type": "stream",
     "text": [
      "train loss: 111.7488 train acc: 0.2759 val loss: 14.4724 val acc: 0.2831\n",
      "Epoch: 31\n"
     ]
    },
    {
     "name": "stderr",
     "output_type": "stream",
     "text": [
      "100%|██████████| 62/62 [00:00<00:00, 79.67it/s]\n",
      "100%|██████████| 8/8 [00:00<00:00, 152.55it/s]\n"
     ]
    },
    {
     "name": "stdout",
     "output_type": "stream",
     "text": [
      "train loss: 111.7457 train acc: 0.2761 val loss: 14.3490 val acc: 0.2871\n",
      "Epoch: 32\n"
     ]
    },
    {
     "name": "stderr",
     "output_type": "stream",
     "text": [
      "100%|██████████| 62/62 [00:01<00:00, 58.89it/s]\n",
      "100%|██████████| 8/8 [00:00<00:00, 82.84it/s]\n"
     ]
    },
    {
     "name": "stdout",
     "output_type": "stream",
     "text": [
      "train loss: 111.5424 train acc: 0.2760 val loss: 14.5062 val acc: 0.2741\n",
      "Epoch: 33\n"
     ]
    },
    {
     "name": "stderr",
     "output_type": "stream",
     "text": [
      "100%|██████████| 62/62 [00:01<00:00, 58.46it/s]\n",
      "100%|██████████| 8/8 [00:00<00:00, 107.29it/s]\n"
     ]
    },
    {
     "name": "stdout",
     "output_type": "stream",
     "text": [
      "train loss: 111.7373 train acc: 0.2756 val loss: 14.4544 val acc: 0.2773\n",
      "Epoch: 34\n"
     ]
    },
    {
     "name": "stderr",
     "output_type": "stream",
     "text": [
      "100%|██████████| 62/62 [00:01<00:00, 52.27it/s]\n",
      "100%|██████████| 8/8 [00:00<00:00, 98.62it/s]\n"
     ]
    },
    {
     "name": "stdout",
     "output_type": "stream",
     "text": [
      "train loss: 111.8009 train acc: 0.2734 val loss: 14.4865 val acc: 0.2767\n",
      "Epoch: 35\n"
     ]
    },
    {
     "name": "stderr",
     "output_type": "stream",
     "text": [
      "100%|██████████| 62/62 [00:01<00:00, 54.05it/s]\n",
      "100%|██████████| 8/8 [00:00<00:00, 113.12it/s]\n"
     ]
    },
    {
     "name": "stdout",
     "output_type": "stream",
     "text": [
      "train loss: 111.7419 train acc: 0.2753 val loss: 14.4350 val acc: 0.2842\n"
     ]
    },
    {
     "name": "stderr",
     "output_type": "stream",
     "text": [
      "100%|██████████| 8/8 [00:00<00:00, 100.81it/s]\n"
     ]
    },
    {
     "name": "stdout",
     "output_type": "stream",
     "text": [
      "test acc: 0.2670\n",
      "Finished Training\n"
     ]
    },
    {
     "data": {
      "image/png": "[encoded data removed]",
      "text/plain": "<Figure size 432x288 with 1 Axes>"
     },
     "metadata": {
      "needs_background": "light"
     },
     "output_type": "display_data"
    }
   ],
   "source": [
    "from src.tdde13.graphsage import GraphSAGE\n",
    "y = LabelEncoder().fit_transform(y)\n",
    "y = torch.tensor(y)   \n",
    "\n",
    "use_glove = False\n",
    "\n",
    "in_dim = X_transformed.shape[1] \n",
    "hidden_dim = 128\n",
    "out_dim = 10\n",
    "\n",
    "hparams = {\n",
    "    \"lr\" : 0.001,\n",
    "    \"epochs\" : 35, # 15,\n",
    "    \"batch_size\" : 128,\n",
    "    \"patience\" : 20, # 5\n",
    "    \"use_glove\" : use_glove\n",
    "}\n",
    "\n",
    "graphsage = GraphSAGE(in_dim=in_dim, hidden_dim=hidden_dim, out_dim=out_dim)\n",
    "\n",
    "# graphsage.train_graphsage(X_transformed, edge_index, y, idx_train, idx_val, idx_test)\n",
    "trace_train, trace_val = graphsage.train_graphsage_batchwise(X_transformed, edge_index, y, idx_train, idx_val, idx_test, hparams)\n",
    "\n",
    "plot_curves(trace_train, trace_val)"
   ]
  }
 ],
 "metadata": {
  "kernelspec": {
   "display_name": "Python 3.8.12 64-bit",
   "name": "python3812jvsc74a57bd0b5d3780335a600d2b64d22f19b7dc7c5025d01ebed9cb50cd08aeee3fa28229c"
  },
  "language_info": {
   "codemirror_mode": {
    "name": "ipython",
    "version": 3
   },
   "file_extension": ".py",
   "mimetype": "text/x-python",
   "name": "python",
   "nbconvert_exporter": "python",
   "pygments_lexer": "ipython3",
   "version": "3.8.12"
  },
  "orig_nbformat": 2
 },
 "nbformat": 4,
 "nbformat_minor": 2
}